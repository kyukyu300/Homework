{
 "cells": [
  {
   "cell_type": "markdown",
   "metadata": {},
   "source": [
    "[문제]\n",
    "\n",
    "'Account' 클래스를 작성하세요. \n",
    "\n",
    "이 클래스는 소유자(owner)와 잔액(balance)을 속성으로 가지며, 잔액은 프라이빗 변수로 선언합니다. \n",
    "\n",
    "'deposit'와 'withdraw' 두 개의 메소드를 통해 잔액을 조작할 수 있도록 하세요. \n",
    "\n",
    "이 때, 잔액은 음수가 될 수 없도록 체크해야 합니다. 'Account' 객체를 생성하고,<br>\n",
    "입금 및 출금 작업을 시뮬레이션한 후, 최종 잔액을 출력하세요."
   ]
  },
  {
   "cell_type": "code",
   "execution_count": 15,
   "metadata": {},
   "outputs": [
    {
     "name": "stdout",
     "output_type": "stream",
     "text": [
      "1000000원 입금하여 규진님의 잔액은 1100000원 입니다.\n",
      "200000원 출금하여 규진님의 잔액은 900000원 입니다.\n"
     ]
    }
   ],
   "source": [
    "class Account:\n",
    "\n",
    "    def __init__(self,owner,balance):\n",
    "        self.owner = owner\n",
    "        self.__balance = balance\n",
    "\n",
    "    def deposit(self):\n",
    "        deposit_amount = int(input(\"입금할 금액을 입력하세요: \"))\n",
    "        self.__balance += deposit_amount\n",
    "        print(f'{deposit_amount}원 입금하여 {self.owner}님의 잔액은 {self.__balance}원 입니다.')\n",
    "    \n",
    "    def withdraw(self):\n",
    "        withdraw_amount = int(input(\"출금할 금액을 입력하세요: \"))\n",
    "        if self.__balance < withdraw_amount:\n",
    "            print(\"출금액이 잔액보다 큽니다.\")\n",
    "        else:\n",
    "            self.__balance -= withdraw_amount\n",
    "            print(f'{withdraw_amount}원 출금하여 {self.owner}님의 잔액은 {self.__balance}원 입니다.')\n",
    "        \n",
    "account1 = Account(\"규진\", 100000)\n",
    "account2 = Account(\"길동\", 5000000)\n",
    "\n",
    "account1.deposit()\n",
    "account1.withdraw()"
   ]
  }
 ],
 "metadata": {
  "kernelspec": {
   "display_name": "Python 3",
   "language": "python",
   "name": "python3"
  },
  "language_info": {
   "codemirror_mode": {
    "name": "ipython",
    "version": 3
   },
   "file_extension": ".py",
   "mimetype": "text/x-python",
   "name": "python",
   "nbconvert_exporter": "python",
   "pygments_lexer": "ipython3",
   "version": "3.9.6"
  }
 },
 "nbformat": 4,
 "nbformat_minor": 2
}
