{
 "cells": [
  {
   "cell_type": "markdown",
   "metadata": {},
   "source": [
    "함수 실행 시간을 측정하는 데코레이터 timer_decorator를 작성하세요. \n",
    "\n",
    "임의의 함수가 실행되는 시간을 측정하여 \"함수 실행 시간: x.xx초\" 형태로 출력하세요."
   ]
  },
  {
   "cell_type": "code",
   "execution_count": 19,
   "metadata": {},
   "outputs": [
    {
     "name": "stdout",
     "output_type": "stream",
     "text": [
      "잘못된 값: 레알허거덩거덩스한상황. 숫자를 입력해주세요.\n",
      "함수 실행 시간: 11.567996978759766초\n"
     ]
    },
    {
     "data": {
      "text/plain": [
       "[1, 2, 3, 4, 5]"
      ]
     },
     "execution_count": 19,
     "metadata": {},
     "output_type": "execute_result"
    }
   ],
   "source": [
    "import time\n",
    "def timer_decorator(function):\n",
    "    def wrapper():\n",
    "         start = time.time()\n",
    "         result = function()\n",
    "         end = time.time()\n",
    "         print(f'함수 실행 시간: {end-start}초')\n",
    "         return result\n",
    "    return wrapper\n",
    "\n",
    "@timer_decorator\n",
    "def str_find():\n",
    "    numbers = []\n",
    "    while True:\n",
    "            number = input(\"숫자들을 입력하세요, 종료하고 싶다면 'done'을 입력하세요: \")\n",
    "            if number == \"done\":\n",
    "                break\n",
    "            number = number.split(\",\")\n",
    "\n",
    "            for num in number:\n",
    "                num = num.strip()\n",
    "                try:\n",
    "                    number = int(num)\n",
    "                    numbers.append(number)\n",
    "                except ValueError:\n",
    "                    print(f'잘못된 값: {num}. 숫자를 입력해주세요.')\n",
    "    return numbers\n",
    "\n",
    "\n",
    "str_find()\n"
   ]
  }
 ],
 "metadata": {
  "kernelspec": {
   "display_name": "Python 3",
   "language": "python",
   "name": "python3"
  },
  "language_info": {
   "codemirror_mode": {
    "name": "ipython",
    "version": 3
   },
   "file_extension": ".py",
   "mimetype": "text/x-python",
   "name": "python",
   "nbconvert_exporter": "python",
   "pygments_lexer": "ipython3",
   "version": "3.9.6"
  }
 },
 "nbformat": 4,
 "nbformat_minor": 2
}
