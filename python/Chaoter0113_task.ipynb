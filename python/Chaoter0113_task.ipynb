{
 "cells": [
  {
   "cell_type": "markdown",
   "metadata": {
    "id": "fD4Qab2qYgOm"
   },
   "source": [
    "안녕하세요. 수강생 여러분~! \n",
    "\n",
    "Chapter01 ~ 13의 수업 내용을 바탕으로 아래 문제를 풀어주시면 됩니다 !\n",
    "\n",
    "지금까지 잘 해오셨으니까, 총 복습한다고 생각하시고 한번 도전해보세요 !!!\n",
    "\n",
    "\n",
    "<br>\n",
    "\n",
    "\n",
    "[**답변 입력 방법**]\n",
    "\n",
    "문제 아래에 있는 코드 입력창에 정답코드를 작성하신 후  __▷ 버튼을 클릭해 코드를 실행__ 해보세요<br>"
   ]
  },
  {
   "cell_type": "markdown",
   "metadata": {},
   "source": [
    "---"
   ]
  },
  {
   "cell_type": "markdown",
   "metadata": {},
   "source": [
    "### 프로젝트: 간단한 ATM 관리 시스템\n",
    "<br>\n",
    "\n",
    "__[문제 1: 잔액 확인]__\n",
    "\n",
    "현재 잔액은 1000원입니다. 현재 잔액을 출력하세요. \n",
    "\n",
    "(변수명 예시 : 잔액 - balance)"
   ]
  },
  {
   "cell_type": "code",
   "execution_count": 1,
   "metadata": {},
   "outputs": [
    {
     "name": "stdout",
     "output_type": "stream",
     "text": [
      "1000\n"
     ]
    }
   ],
   "source": [
    "balance = 1000\n",
    "print(balance)"
   ]
  },
  {
   "cell_type": "markdown",
   "metadata": {},
   "source": [
    "__[문제 2: 입금]__\n",
    "\n",
    "가지고 있는 돈을 입금합니다.\n",
    "\n",
    "입금 금액을 입력받고, 잔액을 갱신한 후 새로운 잔액을 출력하세요. 입금 거래를 영수증 리스트에 기록하세요.\n",
    "\n",
    "- 입금 금액은 input()을 이용해 받습니다.\n",
    "- 영수증은 list()로 선언합니다.\n",
    "- 영수증에 들어가는 정보는 튜플 형태입니다.\n",
    "- 튜플에 담기는 정보는 (입금 or 출금, 입금 or 출금 금액, 현재 잔액)순 입니다.\n",
    "\n",
    "(변수명 예시: 영수증 리스트 - receipts, 입금 금액 - deposit_amount)\n"
   ]
  },
  {
   "cell_type": "code",
   "execution_count": 14,
   "metadata": {},
   "outputs": [
    {
     "name": "stdout",
     "output_type": "stream",
     "text": [
      "30000원을 입금하셨습니다. 현재 잔고는 50000원 입니다.\n",
      "현재 영수증 내역:\n",
      "('입금', '30000', 50000)\n"
     ]
    }
   ],
   "source": [
    "\n",
    "balance = 20000\n",
    "receipts = []\n",
    "\n",
    "while True:\n",
    "    try:\n",
    "        deposit_amount = input(\"입금할 금액을 입력해주세요.: \")\n",
    "        if int(deposit_amount) > 0:\n",
    "            balance += int(deposit_amount)\n",
    "            print(f'{deposit_amount}원을 입금하셨습니다. 현재 잔고는 {balance}원 입니다.')\n",
    "            \n",
    "            #입금 내역을 튜플로 기록\n",
    "            receipt = (\"입금\", deposit_amount, balance)\n",
    "            receipts.append(receipt)\n",
    "\n",
    "            # 전체 영수증 리스트 출력\n",
    "            print(\"현재 영수증 내역:\")\n",
    "            for receipt in receipts:\n",
    "                print(receipt)\n",
    "            break\n",
    "        else:\n",
    "            print(\"입금 금액은 0보다 커야합니다.\")\n",
    "\n",
    "    except ValueError:\n",
    "        print(\"유효하지 않은 금액입니다. 숫자로 다시 입력해주세요.\")\n"
   ]
  },
  {
   "cell_type": "markdown",
   "metadata": {},
   "source": [
    "__[문제 3: 출금]__\n",
    "\n",
    "사용자가 돈을 출금합니다. 출금 금액을 입력받고, 잔액을 갱신한 후 새로운 잔액을 출력하세요. 출금 거래를 영수증 리스트에 기록하세요. \n",
    "\n",
    "- 출금 금액은 input()을 이용해 받습니다.\n",
    "- 현재 잔액보다 출금 요청 금액이 많을 경우 현재 잔액 만큼만 출금되도록 합니다.\n",
    "- 영수증에 들어가는 정보는 튜플 형태입니다.\n",
    "- 튜플에 담기는 정보는 (입금 or 출금, 입금 or 출금 금액, 현재 잔액)순 입니다.\n",
    "\n",
    "(변수명 예시: 출금금액 - withdraw_amount)"
   ]
  },
  {
   "cell_type": "code",
   "execution_count": null,
   "metadata": {},
   "outputs": [
    {
     "name": "stdout",
     "output_type": "stream",
     "text": [
      "20000원을 출금하셨습니다. 현재 잔고는 0원 입니다.\n",
      "현재 영수증 내역:\n",
      "('출금', '20000', 0)\n"
     ]
    }
   ],
   "source": [
    "balance = 20000\n",
    "receipts = []\n",
    "\n",
    "while True:\n",
    "    try:\n",
    "        withdraw_amount = input(\"출금할 금액을 입력해주세요.: \")\n",
    "        # 출금 금액이 잔액보다 적을 경우\n",
    "        if int(withdraw_amount) <= balance:\n",
    "            balance -= int(withdraw_amount)\n",
    "            print(f'{withdraw_amount}원을 출금하셨습니다. 현재 잔고는 {balance}원 입니다.')\n",
    "\n",
    "            #출금 내역을 튜플로 기록\n",
    "            receipt = (\"출금\", withdraw_amount, balance)\n",
    "            receipts.append(receipt)\n",
    "\n",
    "            # 전체 영수증 리스트 출력\n",
    "            print(\"현재 영수증 내역:\")\n",
    "            for receipt in receipts:\n",
    "                print(receipt)\n",
    "            break\n",
    "        \n",
    "        # 출금 금액이 잔액보다 클 경우\n",
    "        else:\n",
    "            balance -= balance\n",
    "            print(f'출금하려는 금액이 잔액보다 큽니다, 현재 잔액만큼 출금됩니다. 현재 잔고는 {balance}원 입니다.')\n",
    "            \n",
    "            receipt = (\"출금\", withdraw_amount, balance)\n",
    "            receipts.append(receipt)\n",
    "\n",
    "            print(\"현재 영수증 내역:\")\n",
    "            for receipt in receipts:\n",
    "                print(receipt)\n",
    "            break\n",
    "\n",
    "    except ValueError:\n",
    "        print(\"유효하지 않은 금액입니다. 숫자로 다시 입력해주세요.\")"
   ]
  },
  {
   "cell_type": "markdown",
   "metadata": {},
   "source": [
    "__[문제 4: 모든 거래 내역 확인]__\n",
    "\n",
    "모든 거래 내역(영수증)을 요청받았을 때 출력하세요.\n",
    "- 지금까지 영수증에 추가된 정보를 출력합니다.\n",
    "- 출력 형태는 자유입니다."
   ]
  },
  {
   "cell_type": "code",
   "execution_count": null,
   "metadata": {},
   "outputs": [
    {
     "name": "stdout",
     "output_type": "stream",
     "text": [
      "지원하지 않는 기능입니다.\n",
      "입금 기능을 선택하셨습니다.\n",
      "유효하지 않은 금액입니다. 숫자로 다시 입력해주세요.\n",
      "입금 기능을 선택하셨습니다.\n",
      "10000원을 입금하셨습니다. 현재 잔고는 30000원 입니다.\n",
      "('입금', '10000', 30000)\n",
      "시스템을 종료합니다.\n"
     ]
    }
   ],
   "source": [
    "balance = 20000\n",
    "receipts = []\n",
    "\n",
    "#사용할 기능 입력 받기\n",
    "while True:\n",
    "    system = input(\"사용하실 기능의 번호를 입력해주세요(1. 입금, 2. 출금, 3. 영수증 보기, 4. 종료): \")\n",
    "    if system == \"4\":\n",
    "        print(\"시스템을 종료합니다.\")\n",
    "        break\n",
    "    else:\n",
    "        print(\"지원하지 않는 기능입니다.\")\n",
    "\n",
    "        #입금 기능 구현\n",
    "    while system == \"1\":\n",
    "        try:\n",
    "            deposit_amount = input(\"입금할 금액을 입력해주세요.: \")\n",
    "            if int(deposit_amount) > 0:\n",
    "                balance += int(deposit_amount)\n",
    "                print(f'{deposit_amount}원을 입금하셨습니다. 현재 잔고는 {balance}원 입니다.')\n",
    "                \n",
    "                #입금 내역을 튜플로 기록\n",
    "                receipt = (\"입금\", deposit_amount, balance)\n",
    "                receipts.append(receipt)\n",
    "                print(receipt)\n",
    "                break\n",
    "            else:\n",
    "                print(\"입금 금액은 0보다 커야합니다.\")\n",
    "\n",
    "        except ValueError:\n",
    "            print(\"유효하지 않은 금액입니다. 숫자로 다시 입력해주세요.\")\n",
    "\n",
    "        #출금 기능 구현\n",
    "    while system == \"2\":\n",
    "        try:\n",
    "            withdraw_amount = input(\"출금할 금액을 입력해주세요.: \")\n",
    "            # 출금 금액이 잔액보다 적을 경우\n",
    "            if int(withdraw_amount) <= balance:\n",
    "                balance -= int(withdraw_amount)\n",
    "                print(f'{withdraw_amount}원을 출금하셨습니다. 현재 잔고는 {balance}원 입니다.')\n",
    "\n",
    "                #출금 내역을 튜플로 기록\n",
    "                receipt = (\"출금\", withdraw_amount, balance)\n",
    "                receipts.append(receipt)\n",
    "                print(receipt)\n",
    "                break\n",
    "            \n",
    "            # 출금 금액이 잔액보다 클 경우\n",
    "            else:\n",
    "                balance -= balance\n",
    "                print(f'출금하려는 금액이 잔액보다 큽니다, 현재 잔액만큼 출금됩니다. 현재 잔고는 {balance}원 입니다.')\n",
    "                \n",
    "                receipt = (\"출금\", withdraw_amount, balance)\n",
    "                receipts.append(receipt)\n",
    "                print(receipt)\n",
    "                break\n",
    "\n",
    "        except ValueError:\n",
    "            print(\"유효하지 않은 금액입니다. 숫자로 다시 입력해주세요.\")\n",
    "\n",
    "\n",
    "        # 영수증 보기 구현\n",
    "    while system == \"3\":\n",
    "        print(\"현재 영수증 내역:\")\n",
    "        for receipt in receipts:\n",
    "            print(receipt)\n",
    "        break\n",
    "  \n"
   ]
  }
 ],
 "metadata": {
  "colab": {
   "authorship_tag": "ABX9TyOA/CeX7CUdbTKFxV0fsocV",
   "provenance": []
  },
  "kernelspec": {
   "display_name": "Python 3",
   "name": "python3"
  },
  "language_info": {
   "codemirror_mode": {
    "name": "ipython",
    "version": 3
   },
   "file_extension": ".py",
   "mimetype": "text/x-python",
   "name": "python",
   "nbconvert_exporter": "python",
   "pygments_lexer": "ipython3",
   "version": "3.9.6"
  }
 },
 "nbformat": 4,
 "nbformat_minor": 0
}
