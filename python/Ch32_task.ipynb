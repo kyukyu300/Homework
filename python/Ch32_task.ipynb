{
 "cells": [
  {
   "cell_type": "markdown",
   "metadata": {},
   "source": [
    "두 문자열을 받아서 긴 문자열을 반환하는 함수 longer_string을 작성하세요. 만약 두 문자열의 길이가 같다면, 첫 번째 문자열을 반환하세요."
   ]
  },
  {
   "cell_type": "code",
   "execution_count": null,
   "metadata": {},
   "outputs": [
    {
     "data": {
      "text/plain": [
       "'응아니야'"
      ]
     },
     "execution_count": 1,
     "metadata": {},
     "output_type": "execute_result"
    }
   ],
   "source": [
    "def longer_string():\n",
    "    string1 = input(\"첫번째 문자열을 입력하세요 :\")\n",
    "    string2 = input(\"두번째 문자열을 입력하세요 :\")\n",
    "\n",
    "    if len(string1) >= len(string2):\n",
    "        return string1\n",
    "    \n",
    "    elif len(string1) == len(string2):\n",
    "        return string1\n",
    "\n",
    "    else:\n",
    "        return string2\n",
    "\n",
    "longer_string()"
   ]
  }
 ],
 "metadata": {
  "kernelspec": {
   "display_name": "Python 3",
   "language": "python",
   "name": "python3"
  },
  "language_info": {
   "codemirror_mode": {
    "name": "ipython",
    "version": 3
   },
   "file_extension": ".py",
   "mimetype": "text/x-python",
   "name": "python",
   "nbconvert_exporter": "python",
   "pygments_lexer": "ipython3",
   "version": "3.9.6"
  }
 },
 "nbformat": 4,
 "nbformat_minor": 2
}
